{
  "nbformat": 4,
  "nbformat_minor": 0,
  "metadata": {
    "colab": {
      "name": "operadores.ipynb",
      "provenance": [],
      "include_colab_link": true
    },
    "kernelspec": {
      "name": "python3",
      "display_name": "Python 3"
    },
    "language_info": {
      "name": "python"
    }
  },
  "cells": [
    {
      "cell_type": "markdown",
      "metadata": {
        "id": "view-in-github",
        "colab_type": "text"
      },
      "source": [
        "<a href=\"https://colab.research.google.com/github/jtorresarias/Python/blob/main/03.OPERADORES/operadores.ipynb\" target=\"_parent\"><img src=\"https://colab.research.google.com/assets/colab-badge.svg\" alt=\"Open In Colab\"/></a>"
      ]
    },
    {
      "cell_type": "markdown",
      "source": [
        "## Trabajar con la división\n",
        "\n",
        "Imagina que necesitas convertir un número de segundos en minutos y segundos para la visualización.\n"
      ],
      "metadata": {
        "id": "40vRYWu9Booh"
      }
    },
    {
      "cell_type": "code",
      "source": [
        "segundos = 1042"
      ],
      "metadata": {
        "id": "OLoPlg0-B6ZQ"
      },
      "execution_count": null,
      "outputs": []
    },
    {
      "cell_type": "markdown",
      "source": [
        "El primer paso es determinar el número de minutos que hay en  ``1042`` segundos. Con ``60`` segundos en un minuto, puedes dividir y obtener una respuesta de ``17.3666667`` . El número que te interesa es simplemente ``17``. Siempre que desees redondear hacia abajo, utilizando lo que se conoce como *división de piso*. Para realizar la división de piso en Python, utilizamos ``//``.\n",
        "\n",
        "\n"
      ],
      "metadata": {
        "id": "kcDA6UPkCVRz"
      }
    },
    {
      "cell_type": "code",
      "source": [
        "segundos = 1042\n",
        "ver_minutos = 1042 // 60\n",
        "print(ver_minutos)"
      ],
      "metadata": {
        "id": "eDELuI82Ct1l",
        "outputId": "b9ce6c3a-c70f-4e9a-ae60-938e4f5feee6",
        "colab": {
          "base_uri": "https://localhost:8080/"
        }
      },
      "execution_count": 1,
      "outputs": [
        {
          "output_type": "stream",
          "name": "stdout",
          "text": [
            "17\n"
          ]
        }
      ]
    },
    {
      "cell_type": "markdown",
      "source": [
        "\n",
        "El siguiente paso es determinar el número de segundos. Este es el resto de si se divide por ``1042``. Puedes encontrar el resto utilizando el operador ``módulo``, que es ``%`` en Python. El resto de ``1042 / 60`` es ``22``, que es lo que proporcionará el operador del módulo.\n",
        "\n",
        "\n"
      ],
      "metadata": {
        "id": "XcF3PMzKC40Y"
      }
    },
    {
      "cell_type": "code",
      "source": [
        "segundos = 1042\n",
        "ver_minutos = 1042 // 60\n",
        "ver_segundos = 1042 % 60\n",
        "\n",
        "print(ver_minutos)\n",
        "print(ver_segundos)"
      ],
      "metadata": {
        "id": "1Bc7uS4FC-Bo",
        "outputId": "bffc4aca-ea63-4089-b56b-8d102e9166e7",
        "colab": {
          "base_uri": "https://localhost:8080/"
        }
      },
      "execution_count": 2,
      "outputs": [
        {
          "output_type": "stream",
          "name": "stdout",
          "text": [
            "17\n",
            "22\n"
          ]
        }
      ]
    },
    {
      "cell_type": "markdown",
      "source": [
        "# FECHAS\n"
      ],
      "metadata": {
        "id": "Q-YZc_eGL91e"
      }
    },
    {
      "cell_type": "code",
      "source": [
        "# Importamos la biblioteca date \n",
        "from datetime import date\n",
        "\n",
        "# Obtenemos la fecha de hoy\n",
        "date.today()\n",
        "\n",
        "# Mostramos la fecha \n",
        "print(date.today())"
      ],
      "metadata": {
        "id": "HurOVHjQMAiu",
        "outputId": "0ffad166-d121-42dc-da58-673df78b97f5",
        "colab": {
          "base_uri": "https://localhost:8080/"
        }
      },
      "execution_count": 3,
      "outputs": [
        {
          "output_type": "stream",
          "name": "stdout",
          "text": [
            "2022-12-01\n"
          ]
        }
      ]
    },
    {
      "cell_type": "markdown",
      "source": [
        "Quieres usar una fecha con un mensaje. Ese algo suele ser un problema. Si, por ejemplo, desea mostrar la fecha de hoy en la consola, es posible que tenga un problema:"
      ],
      "metadata": {
        "id": "bXBrMrwkMI1F"
      }
    },
    {
      "cell_type": "code",
      "source": [
        "print(\"Hoy es: \" + date.today())"
      ],
      "metadata": {
        "id": "ta6hrZfqMLzx"
      },
      "execution_count": null,
      "outputs": []
    },
    {
      "cell_type": "markdown",
      "source": [
        "Lo que obtienes es un error:\n",
        "\n",
        "La última fila del mensaje le indica cuál es el problema. Está intentando usar el operador + y combinar dos tipos de datos diferentes, una cadena y una fecha.\n",
        "\n",
        "Para que este código funcione, debe convertir la fecha en una cadena. Para lograr tal conversión mediante el uso de la función de utilidad: str()"
      ],
      "metadata": {
        "id": "5a0SKbZxMUPA"
      }
    },
    {
      "cell_type": "code",
      "source": [
        "print(\"Hoy es: \" + str(date.today()))"
      ],
      "metadata": {
        "id": "4N8CfQJcMaQa"
      },
      "execution_count": null,
      "outputs": []
    },
    {
      "cell_type": "markdown",
      "source": [
        "# CADENAS\n",
        "vamos a conocer varias formas de unir variables con texto y asignar valor a las mimas variables\n",
        "\n",
        "## Inmutabilidad de las cadenas\n",
        "\n",
        "En Python, las cadenas son inmutables. Es decir, no pueden cambiar. Esta propiedad del tipo de cadena puede ser sorprendente, porque Python no te da errores cuando alteras las cadenas."
      ],
      "metadata": {
        "id": "X0G98WPWOsRm"
      }
    },
    {
      "cell_type": "code",
      "source": [
        "cad = 'esto es una cadena'\n",
        "cad + 'esto se añade a la cadena'\n",
        "\n",
        "print(cad)"
      ],
      "metadata": {
        "id": "eRcsZZnCOxTp",
        "outputId": "7798a7ed-adfd-4fae-b2f7-e6ea16b8e416",
        "colab": {
          "base_uri": "https://localhost:8080/"
        }
      },
      "execution_count": 4,
      "outputs": [
        {
          "output_type": "stream",
          "name": "stdout",
          "text": [
            "esto es una cadena\n"
          ]
        }
      ]
    },
    {
      "cell_type": "markdown",
      "source": [
        "El truco aquí es que debes usar un valor devuelto. Cuando agregas cadenas, Python no modifica ninguna cadena, pero devuelve una nueva cadena como resultado. Para mantener este nuevo resultado, asígnelo a una nueva variable:"
      ],
      "metadata": {
        "id": "LWvMr0B5PheB"
      }
    },
    {
      "cell_type": "code",
      "source": [
        "dos_cadenas = cad + 'esto es otra cadena'\n",
        "dos_cadenas"
      ],
      "metadata": {
        "id": "Wsa4PazYPj_L"
      },
      "execution_count": null,
      "outputs": []
    },
    {
      "cell_type": "markdown",
      "source": [
        "Acerca del uso de comillas\n",
        "Puedes incluir cadenas de Python entre comillas simples, dobles o triples. Aunque puedes usarlos indistintamente, es mejor usar un tipo de manera consistente dentro de un proyecto. Por ejemplo, la siguiente cadena utiliza comillas dobles:\n"
      ],
      "metadata": {
        "id": "thqmmxtxP6zL"
      }
    },
    {
      "cell_type": "code",
      "source": [
        "cadena = \"esto es una cadena\""
      ],
      "metadata": {
        "id": "eTcad0V9P92I"
      },
      "execution_count": null,
      "outputs": []
    },
    {
      "cell_type": "markdown",
      "source": [
        "Sin embargo, cuando una cadena contiene palabras, números o caracteres especiales (una subcadena) que también están entre comillas, debes usar un estilo diferente. Por ejemplo, si una subcadena utiliza comillas dobles, encierra toda la cadena entre comillas simples, como se muestra aquí:\n"
      ],
      "metadata": {
        "id": "MVvL_YRFQBBT"
      }
    },
    {
      "cell_type": "code",
      "source": [
        "'Podemos poner \"comillas\" dentro de la cadena'"
      ],
      "metadata": {
        "id": "d4goclFdQFlF"
      },
      "execution_count": null,
      "outputs": []
    },
    {
      "cell_type": "markdown",
      "source": [
        "Del mismo modo, si hay comillas simples (o un apóstrofo, como en Moon en el siguiente ejemplo) en cualquier lugar dentro de la cadena, encierra toda la cadena entre comillas dobles:"
      ],
      "metadata": {
        "id": "k0Eail1bQInS"
      }
    },
    {
      "cell_type": "code",
      "source": [
        "\"La cancion Moon's \""
      ],
      "metadata": {
        "id": "8qCiMQVBQL77"
      },
      "execution_count": null,
      "outputs": []
    },
    {
      "cell_type": "markdown",
      "source": [
        "\n",
        "Si no se alternan comillas simples y dobles, el intérprete de Python puede provocar un error de sintaxis, como se muestra aquí:"
      ],
      "metadata": {
        "id": "_R80XsThQPxR"
      }
    },
    {
      "cell_type": "code",
      "source": [
        "'La cancion Moon's '"
      ],
      "metadata": {
        "id": "BcagbVmkQS9f"
      },
      "execution_count": null,
      "outputs": []
    },
    {
      "cell_type": "code",
      "source": [
        "\"\"\"La canción the Moon's se escucho \"toda la noche\".\"\"\""
      ],
      "metadata": {
        "id": "onLEhkb2QYlf"
      },
      "execution_count": null,
      "outputs": []
    },
    {
      "cell_type": "markdown",
      "source": [
        "# Texto multilínea\n",
        "Hay algunas maneras diferentes de definir varias líneas de texto como una sola variable. Las formas más comunes son:\n",
        "\n",
        "Utiliza un carácter de nueva línea ().\\n\n",
        "Utiliza comillas triples (\"\"\")..\n",
        "Los caracteres de nueva línea separan el texto en varias líneas al imprimir la salida:"
      ],
      "metadata": {
        "id": "yJR0Bxk7QhiL"
      }
    },
    {
      "cell_type": "code",
      "source": [
        "multilinea = \"Datos de contrucción:\\n Rangos de error.\\n Datos a validar\"\n",
        "print(multilinea)\n",
        " \n"
      ],
      "metadata": {
        "id": "k5dr7XrCQmBK",
        "outputId": "c24cd9a1-00af-4fee-83ab-890471e54393",
        "colab": {
          "base_uri": "https://localhost:8080/"
        }
      },
      "execution_count": 5,
      "outputs": [
        {
          "output_type": "stream",
          "name": "stdout",
          "text": [
            "Datos de contrucción:\n",
            " Rangos de error.\n",
            " Datos a validar\n"
          ]
        }
      ]
    },
    {
      "cell_type": "code",
      "source": [
        "# Puedes lograr el mismo resultado utilizando comillas triples:}\n",
        "multilinea = \"\"\"Datos de contrucción:\n",
        "Rangos de error.\n",
        "Datos a validar\"\"\"\n",
        "print(multilinea)"
      ],
      "metadata": {
        "id": "srfpv7q_Qn07",
        "outputId": "86a47237-9c03-46fd-e53d-0f7b4cc77ef9",
        "colab": {
          "base_uri": "https://localhost:8080/"
        }
      },
      "execution_count": 6,
      "outputs": [
        {
          "output_type": "stream",
          "name": "stdout",
          "text": [
            "Datos de contrucción:\n",
            "Rangos de error.\n",
            "Datos a validar\n"
          ]
        }
      ]
    },
    {
      "cell_type": "markdown",
      "source": [
        "# Métodos string en Python\n",
        "Las cadenas son uno de los tipos de métodos más comunes en Python. A menudo tendrá que manipularlos para extraer información o ajustarse a un formato determinado. Python incluye varios métodos de cadena que están diseñados para realizar las transformaciones más comunes y útiles.\n",
        "\n",
        "Los métodos de cadena forman parte del tipo str. Esto significa que los métodos existen como variables de cadena o parte de la cadena directamente. Por ejemplo, el método .title(), .upper() y lower() se puede utilizar con una cadena directamente:"
      ],
      "metadata": {
        "id": "IT1aF3SPQ3dA"
      }
    },
    {
      "cell_type": "code",
      "source": [
        "nombre = 'MIGUEL MACIAS LOPEZ'\n",
        "print(nombre.lower())\n",
        "nombre = 'miguel macias lopez'\n",
        "print(nombre.upper())\n",
        "nombre = 'miguel macias lopez'\n",
        "print(nombre.title())"
      ],
      "metadata": {
        "id": "p7tee6GNQ5o9",
        "outputId": "1a7b9cc7-1a35-4668-e1dd-ed80f7042b69",
        "colab": {
          "base_uri": "https://localhost:8080/"
        }
      },
      "execution_count": 7,
      "outputs": [
        {
          "output_type": "stream",
          "name": "stdout",
          "text": [
            "miguel macias lopez\n",
            "MIGUEL MACIAS LOPEZ\n",
            "Miguel Macias Lopez\n"
          ]
        }
      ]
    },
    {
      "cell_type": "markdown",
      "source": [
        "# Texto con varibles\n",
        "Podemos unir y llamar juntos variables y texto, o solo variables de varias maneras, conoceremos las más comunes.\n",
        "\n",
        "## Formato con signo de porcentaje (%)\n",
        "El marcador de posición es %s, %i, %f (dependiendo el tipo de dato), y la variable se pasa al texto después del carácter % fuera de la cadena. A continuación te explico cómo dar formato mediante el uso del carácter%:"
      ],
      "metadata": {
        "id": "krkUeXYaSvBp"
      }
    },
    {
      "cell_type": "code",
      "source": [
        "porc = '1/4'\n",
        "print('La población infantil es de  %s del total de la poblacion' % porc)"
      ],
      "metadata": {
        "id": "J4kKqHA4TIR8",
        "outputId": "5faafb8d-18a8-4d7f-dae7-572ceb6750ae",
        "colab": {
          "base_uri": "https://localhost:8080/"
        }
      },
      "execution_count": 8,
      "outputs": [
        {
          "output_type": "stream",
          "name": "stdout",
          "text": [
            "La población infantil es de  1/4 del total de la poblacion\n"
          ]
        }
      ]
    },
    {
      "cell_type": "markdown",
      "source": [
        "El uso de múltiples valores cambia la sintaxis, ya que requiere paréntesis para rodear las variables que se pasan:"
      ],
      "metadata": {
        "id": "HIJ6-ToMTlK8"
      }
    },
    {
      "cell_type": "code",
      "source": [
        "print(\"\"\"En los %s hay diversas actividades,\n",
        "    de tipo %s además de \n",
        "     %s y también encontraras apoyo en tareas en la %s.\"\"\" % ('PILARES', 'deportiva', 'culturales', 'Ciberescuela'))"
      ],
      "metadata": {
        "id": "uHMEpOvITniq",
        "outputId": "50979579-be24-495c-ffe0-b28f1309694b",
        "colab": {
          "base_uri": "https://localhost:8080/"
        }
      },
      "execution_count": 9,
      "outputs": [
        {
          "output_type": "stream",
          "name": "stdout",
          "text": [
            "En los PILARES hay diversas actividades,\n",
            "    de tipo deportiva además de \n",
            "     culturales y también encontraras apoyo en tareas en la Ciberescuela.\n"
          ]
        }
      ]
    },
    {
      "cell_type": "markdown",
      "source": [
        "Aunque este método sigue siendo una forma válida de dar formato a las cadenas, puede provocar errores y una disminución en la claridad en el código cuando se trata de múltiples variables. Cualquiera de las otras dos opciones de formato descritas aquí sería más adecuada para este propósito.\n",
        "\n",
        "El método .format()utiliza llaves ({}) como marcadores de posición dentro de una cadena y utiliza la asignación de variables para reemplazar el texto."
      ],
      "metadata": {
        "id": "vNOPuRTrT1gj"
      }
    },
    {
      "cell_type": "code",
      "source": [
        "porc = '1/4'\n",
        "print('La población infantil es de {} del total de la poblacion'.format(porc))"
      ],
      "metadata": {
        "id": "3qZd7dYjT4Zs",
        "outputId": "ae24ad79-df8a-40ca-e8d7-33e78596c3ed",
        "colab": {
          "base_uri": "https://localhost:8080/"
        }
      },
      "execution_count": 10,
      "outputs": [
        {
          "output_type": "stream",
          "name": "stdout",
          "text": [
            "La población infantil es de 1/4 del total de la poblacion\n"
          ]
        }
      ]
    },
    {
      "cell_type": "code",
      "source": [
        "print(\"\"\"En los centros {0}, puedes eoncontrar la {1} \n",
        "... existen 140 {0} donde se oferta el taller en toda la {2} \"\"\".format(\"PILARES\", \"Escuela de Código\", \"CDMX\"))"
      ],
      "metadata": {
        "id": "STexy6V2UDoS",
        "outputId": "c602ea93-493d-440f-a663-83cab656b0d1",
        "colab": {
          "base_uri": "https://localhost:8080/"
        }
      },
      "execution_count": 11,
      "outputs": [
        {
          "output_type": "stream",
          "name": "stdout",
          "text": [
            "En los centros PILARES, puedes eoncontrar la Escuela de Código \n",
            "existen 140 PILARES donde se oferta el taller en toda la CDMX \n"
          ]
        }
      ]
    },
    {
      "cell_type": "markdown",
      "source": [
        "# Acerca de las cadenas con f\n",
        "A partir de la versión 3.6 de Python, es posible usar f-strings. Estas cadenas parecen plantillas con las mismas variables con nombre que las del código. El uso de cadenas f en el ejemplo anterior se vería así:\n",
        "\n",
        "Las variables van dentro de llaves y la cadena debe usar el prefijo f"
      ],
      "metadata": {
        "id": "x5n5QmtpUH8z"
      }
    },
    {
      "cell_type": "code",
      "source": [
        "nombre = 'PILARES'\n",
        "print(f'En los diferentes centros {nombre} podrás encontrar diversas opciones')"
      ],
      "metadata": {
        "id": "OeIcmOasUMz1"
      },
      "execution_count": null,
      "outputs": []
    },
    {
      "cell_type": "code",
      "source": [
        "nombre = 'PILARES'\n",
        "taller = 'Escuela de Código'\n",
        "ciudad = 'CDMX'\n",
        "print(f'En los centros {nombre}, puedes encontrar la {taller}\\n ... exiten 140 {nombre} en donde se oferta el taller en toda la {ciudad}')"
      ],
      "metadata": {
        "id": "Jqth6HJ9USGM"
      },
      "execution_count": null,
      "outputs": []
    },
    {
      "cell_type": "markdown",
      "source": [
        "# Con comas\n",
        "Usualmente también puedes usar \",\" para el mismo propósito "
      ],
      "metadata": {
        "id": "BMEtOXpxU-b8"
      }
    },
    {
      "cell_type": "code",
      "source": [
        "nombre = 'PILARES'\n",
        "taller = 'Escuela de Código'\n",
        "ciudad = 'CDMX'\n",
        "print(f'En los centros ',nombre,', puedes encontrar la ',taller,'\\n ... exiten 140 ',nombre,' en donde se oferta el taller en toda la ',ciudad)"
      ],
      "metadata": {
        "id": "4gcU5kZCVQTF"
      },
      "execution_count": null,
      "outputs": []
    },
    {
      "cell_type": "markdown",
      "source": [
        "# Con +"
      ],
      "metadata": {
        "id": "ME02iKyaVpfm"
      }
    },
    {
      "cell_type": "code",
      "source": [
        "nombre = 'PILARES'\n",
        "taller = 'Escuela de Código'\n",
        "ciudad = 'CDMX'\n",
        "print(f'En los centros ' + nombre +', puedes encontrar la ' + taller +'\\n ... exiten 140 ' + nombre + ' en donde se oferta el taller en toda la ' + ciudad)"
      ],
      "metadata": {
        "id": "VasxFlJnVu-B"
      },
      "execution_count": null,
      "outputs": []
    },
    {
      "cell_type": "markdown",
      "source": [
        "# EJERCICIO \n",
        "Saber cómo dar formato a las cadenas es esencial cuando se presenta información de un programa. Hay algunas maneras diferentes de lograr esto en Python. En este ejercicio, se utilizan variables que contienen datos clave sobre usuarios y luego se utilizan para dar formato e imprimir la información.\n",
        "\n",
        "El resultado deseado es similar a la siguiente imagen:\n",
        "\n",
        "![image.png](data:image/png;base64,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)\n",
        "\n",
        "El texto: Escuela de Código, es una variable, el folio es otra variable y el nombre es otra variable.\n",
        "\n",
        "Utiliza string f para este ejercicio"
      ],
      "metadata": {
        "id": "GN341QWHWtgR"
      }
    },
    {
      "cell_type": "code",
      "source": [
        "# Primero creamos las variables a usar\n",
        "taller = \"Escuela de Código\"\n",
        "folio = 3\n",
        "nombre = \"Juan\""
      ],
      "metadata": {
        "id": "L7WtS8-5YUh5"
      },
      "execution_count": null,
      "outputs": []
    },
    {
      "cell_type": "code",
      "source": [
        "# Despúes, crea un título para el texto, con una variable para que aplique a varios talleres, usa una variable de nombre titulo\n",
        "titulo=f'Usuarios de {taller} '"
      ],
      "metadata": {
        "id": "g6DGxmuXXOt5"
      },
      "execution_count": 31,
      "outputs": []
    },
    {
      "cell_type": "code",
      "source": [
        "# Ahora crea una variable que sea la plantilla, recuerda los saltos de línea y usar string f, dale el nombre de plantilla a esa variable\n",
        "nombre = 'joel'\n",
        "folio = 42\n",
        "taller = 'Escuela de codigo'\n",
        "operacion = '-'*35\n",
        "plantilla = f'{operacion}\\n nombre de usuario {nombre}\\n folio en {taller}: {folio} '\n",
        "print(plantilla)"
      ],
      "metadata": {
        "id": "OcxGrhlTYw5u",
        "outputId": "6ec89142-33b5-42d8-ae08-09489cb85816",
        "colab": {
          "base_uri": "https://localhost:8080/"
        }
      },
      "execution_count": 25,
      "outputs": [
        {
          "output_type": "stream",
          "name": "stdout",
          "text": [
            "-----------------------------------\n",
            " nombre de usuario joel\n",
            " folio en Escuela de codigo: 42 \n"
          ]
        }
      ]
    },
    {
      "cell_type": "code",
      "source": [
        "# Une el título con la plantilla, en otra variable llamada tabla\n",
        "taller = \"Escuela de Código\"\n",
        "folio = 3\n",
        "nombre = \"Juan\"\n",
        "operacion = '-'*35\n",
        "plantilla = f'{operacion}\\n nombre de usuario {nombre}\\n folio en {taller}: {folio}' \n",
        "\n",
        "formato = f'{titulo}\\n  {plantilla}'\n",
        "print(formato)\n"
      ],
      "metadata": {
        "id": "J3lbi__IZA8t",
        "outputId": "561b6cec-2191-4d78-d5c6-5d5816323831",
        "colab": {
          "base_uri": "https://localhost:8080/"
        }
      },
      "execution_count": 33,
      "outputs": [
        {
          "output_type": "stream",
          "name": "stdout",
          "text": [
            "Usuarios de Escuela de codigo \n",
            "  -----------------------------------\n",
            " nombre de usuario Juan\n",
            " folio en Escuela de Código: 3\n"
          ]
        }
      ]
    }
  ]
}