{
  "nbformat": 4,
  "nbformat_minor": 0,
  "metadata": {
    "colab": {
      "provenance": [],
      "authorship_tag": "ABX9TyM1IIfZbvVFkWY7vptG6fN9",
      "include_colab_link": true
    },
    "kernelspec": {
      "name": "python3",
      "display_name": "Python 3"
    },
    "language_info": {
      "name": "python"
    }
  },
  "cells": [
    {
      "cell_type": "markdown",
      "metadata": {
        "id": "view-in-github",
        "colab_type": "text"
      },
      "source": [
        "<a href=\"https://colab.research.google.com/github/jtorresarias/Python/blob/main/Practica__2.ipynb\" target=\"_parent\"><img src=\"https://colab.research.google.com/assets/colab-badge.svg\" alt=\"Open In Colab\"/></a>"
      ]
    },
    {
      "cell_type": "markdown",
      "source": [
        "Escribir un programa que convierta un valor dado en grados Fahrenheit a grados Celsius."
      ],
      "metadata": {
        "id": "av2R4pPqZgmO"
      }
    },
    {
      "cell_type": "code",
      "source": [
        "print(\"Convertidor de grados Fahrenheit a Celsius\")\n",
        "grados_fahrenheit = input(\"Ingresa los grados Fahrenheit a convertir a grados Celsius: \")\n",
        "grados_celsius = ((float(grados_fahrenheit)-32)*(5/9))\n",
        "print(\"Equivale a \",abs(grados_celsius), \" grados celsius\")"
      ],
      "metadata": {
        "colab": {
          "base_uri": "https://localhost:8080/"
        },
        "id": "fuBGWSbMZxEX",
        "outputId": "5f03c7f4-8cb9-4ff2-db5e-fae8f6c640c9"
      },
      "execution_count": 3,
      "outputs": [
        {
          "output_type": "stream",
          "name": "stdout",
          "text": [
            "Convertidor de grados Fahrenheit a Celsius\n",
            "Ingresa los grados Fahrenheit a convertir a grados Celsius: 78\n",
            "Equivale a  25.555555555555557  grados celsius\n"
          ]
        }
      ]
    },
    {
      "cell_type": "markdown",
      "source": [
        "Dados dos números, mostrar la suma, resta, división y multiplicación de ambos."
      ],
      "metadata": {
        "id": "s0nihUdXcjQf"
      }
    },
    {
      "cell_type": "code",
      "source": [
        "print(\"Suma, Resta, Division y Multiplicacion de dos numeros\")\n",
        "numero1 = float(input(\"Ingresa el primer numero: \"))\n",
        "numero2 = float(input(\"Ingresa el segundo numero: \"))\n",
        "print(\"La suma es igual a \", numero1 + numero2, \"La resta es igual a: \", abs(numero1 - numero2), \"La división es igual a: \", numero1 / numero2, \"La multiplicación es igual a: \", numero1*numero2)"
      ],
      "metadata": {
        "colab": {
          "base_uri": "https://localhost:8080/"
        },
        "id": "0j3ywYa9cllO",
        "outputId": "23170f57-7dff-4fe1-ca02-f045d508a610"
      },
      "execution_count": 8,
      "outputs": [
        {
          "output_type": "stream",
          "name": "stdout",
          "text": [
            "Suma, Resta, Division y Multiplicacion de dos numeros\n",
            "Ingresa el primer numero: 5\n",
            "Ingresa el segundo numero: 6\n",
            "La suma es igual a  11.0 La resta es igual a:  1.0 La división es igual a:  0.8333333333333334 La multiplicación es igual a:  30.0\n"
          ]
        }
      ]
    }
  ]
}