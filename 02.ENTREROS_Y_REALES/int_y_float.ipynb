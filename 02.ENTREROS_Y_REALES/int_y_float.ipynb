{
  "nbformat": 4,
  "nbformat_minor": 0,
  "metadata": {
    "colab": {
      "name": "int_y_float.ipynb",
      "provenance": [],
      "include_colab_link": true
    },
    "kernelspec": {
      "name": "python3",
      "display_name": "Python 3"
    },
    "language_info": {
      "name": "python"
    }
  },
  "cells": [
    {
      "cell_type": "markdown",
      "metadata": {
        "id": "view-in-github",
        "colab_type": "text"
      },
      "source": [
        "<a href=\"https://colab.research.google.com/github/jtorresarias/Python/blob/main/02.ENTREROS_Y_REALES/int_y_float.ipynb\" target=\"_parent\"><img src=\"https://colab.research.google.com/assets/colab-badge.svg\" alt=\"Open In Colab\"/></a>"
      ]
    },
    {
      "cell_type": "markdown",
      "source": [
        "# Para capturar información del usuario, utilice la función input()"
      ],
      "metadata": {
        "id": "aAzDhQXn7m_b"
      }
    },
    {
      "cell_type": "code",
      "execution_count": 4,
      "metadata": {
        "id": "242f2CPa69TN",
        "outputId": "fdcb5cdf-0571-46e6-eebb-372b6cdcff82",
        "colab": {
          "base_uri": "https://localhost:8080/"
        }
      },
      "outputs": [
        {
          "output_type": "stream",
          "name": "stdout",
          "text": [
            "Bienvenido al taller de Python en PILARES\n",
            "Introduce tú edad 40\n",
            "Bienvenido:  40\n"
          ]
        }
      ],
      "source": [
        "print(\"Bienvenido al taller de Python en PILARES\")\n",
        "name = int(input(\"Introduce tú edad \"))\n",
        "print(\"Bienvenido: \", name)"
      ]
    },
    {
      "cell_type": "markdown",
      "source": [
        "# Trabajar con números\n",
        "La función almacena un resultado como una cadena. Por lo tanto, es posible que el siguiente código no haga lo que desea que haga: input()\n",
        "\n"
      ],
      "metadata": {
        "id": "ZcNt0zNY7xEs"
      }
    },
    {
      "cell_type": "code",
      "source": [
        "print(\"Calculadora\")\n",
        "first_number = input(\"Primer número: \")\n",
        "second_number = input(\"Segundo número: \")\n",
        "print(first_number + second_number)"
      ],
      "metadata": {
        "id": "L1gvq4_7700Y",
        "outputId": "4f4d4bb6-1368-463e-81a4-1ae31249717f",
        "colab": {
          "base_uri": "https://localhost:8080/"
        }
      },
      "execution_count": 5,
      "outputs": [
        {
          "output_type": "stream",
          "name": "stdout",
          "text": [
            "Calculadora\n",
            "Primer número: 1\n",
            "Segundo número: 1\n",
            "11\n"
          ]
        }
      ]
    },
    {
      "cell_type": "markdown",
      "source": [
        "Probablemente quieres que este programa te responda con la suma pero dará un número diferente. ¿qué salió mal?\n",
        "\n",
        "La explicación es que el programa toma ambos números como si fuesen 'cadenas de texto'. Para que el cálculo funcione correctamente, debe cambiar esas cadenas a números mediante la función int(). Modificando la última línea del programa a utilizar, puede resolver el problema:"
      ],
      "metadata": {
        "id": "QLW2llQR762d"
      }
    },
    {
      "cell_type": "code",
      "source": [
        "print(int(first_number) + int(second_number))"
      ],
      "metadata": {
        "id": "Bqz03njY7_i9",
        "outputId": "660cf784-7098-4547-dd92-0f2242e2e6b1",
        "colab": {
          "base_uri": "https://localhost:8080/"
        }
      },
      "execution_count": 6,
      "outputs": [
        {
          "output_type": "stream",
          "name": "stdout",
          "text": [
            "2\n"
          ]
        }
      ]
    },
    {
      "cell_type": "markdown",
      "source": [
        "# EJERCICIO 1\n",
        "Construir un convertidor de unidades de centimetros a metros (el formato del resultado deberá ser: X cm son igual a X metros, según el usuarios ingrese la cantidad a convertir)."
      ],
      "metadata": {
        "id": "4qQAtf1n-mPx"
      }
    },
    {
      "cell_type": "code",
      "source": [
        "\n",
        "cen = input(\"Cuantos centimetros deseas convertir a metros: \")\n",
        "metros = (float(cen)/100)\n",
        "print(\"los centimetros ingresados son igual a: \", metros)"
      ],
      "metadata": {
        "id": "LfnRmfE3_SQa"
      },
      "execution_count": 13,
      "outputs": []
    },
    {
      "cell_type": "markdown",
      "source": [
        "# EJERCICIO 2\n",
        "Exploremos cómo podemos crear un programa que pueda calcular la distancia entre dos planetas EN KILOMETROS. Comenzaremos conociendo las distancias de planetas al sol: \n",
        "\n",
        "Planeta Y Distancia al sol\n",
        "\n",
        "Mercurio 57900000\n",
        "\n",
        "Venus 108200000\n",
        "\n",
        "Tierra 149600000\n",
        "\n",
        "Marte 227900000\n",
        "\n",
        "Júpiter 778600000\n",
        "\n",
        "Saturno 1433500000\n",
        "\n",
        "Urano 2872500000\n",
        "\n",
        "Neptuno 4495100000\n",
        "\n",
        "PASOS:\n",
        "\n",
        "a) Lee los valores\n",
        "\n",
        "Usando input, agrega el código para leer la distancia del sol para cada planeta, considerando 2 planetas.\n",
        "\n",
        "b)Convertir a número\n",
        "\n",
        "Debido a que input devuelve valores de cadena, necesitamos convertirlos en números. Para nuestro ejemplo, usaremos int\n",
        "\n",
        "c)Realizar el cálculo y convertir a valor absoluto\n",
        "\n",
        "Con los valores almacenados como números, ahora puedes agregar el código para realizar el cálculo, restando el primer planeta del segundo. Debido a que el segundo planeta podría ser un número mayor, usarás abs para convertirlo a un valor absoluto\n",
        "\n",
        "d)Prueba tu aplicación"
      ],
      "metadata": {
        "id": "fQKrIG5VE9PO"
      }
    },
    {
      "cell_type": "code",
      "source": [
        "print(\"Medir distancia entre planetas\")\n",
        "distancia1 = input(\"Ingresa la distancia entre el sol y el primer planeta: \")\n",
        "distancia2 = input(\"Ingresa la distancia entre el sol y el segundo planeta: \")\n",
        "distancia_entre_planetas = int(distancia1) - int(distancia2)\n",
        "print(\"La distancia entre planetas es de: \", abs(distancia_entre_planetas))\n"
      ],
      "metadata": {
        "id": "qmqAFLG5FlvT",
        "outputId": "79ffee37-e07b-4553-eb31-99cbb74a4872",
        "colab": {
          "base_uri": "https://localhost:8080/"
        }
      },
      "execution_count": 14,
      "outputs": [
        {
          "metadata": {
            "tags": null
          },
          "name": "stdout",
          "output_type": "stream",
          "text": [
            "Medir distancia entre planetas\n"
          ]
        }
      ]
    },
    {
      "cell_type": "markdown",
      "source": [
        "# Soluciones propuestas"
      ],
      "metadata": {
        "id": "qcOp0oXTFrhJ"
      }
    },
    {
      "cell_type": "code",
      "source": [
        "numero1 = int(input('ingresa el numero de metros '))\n",
        "print('El total de centrimetros en ',numero1,\" metros es de \",numero1*100)"
      ],
      "metadata": {
        "id": "-rR1sZJUFvUp"
      },
      "execution_count": null,
      "outputs": []
    },
    {
      "cell_type": "code",
      "source": [
        "distancia1 = int(input('ingresa la distancia al sol del primer planeta'))\n",
        "distancia2 = int(input('ingresa la distancia al sol del segundo planeta'))\n",
        "distancia_entre_planetas = abs(distancia1-distancia2)\n",
        "print(distancia_entre_planetas)"
      ],
      "metadata": {
        "id": "Zz-AjsURGeMy"
      },
      "execution_count": null,
      "outputs": []
    }
  ]
}